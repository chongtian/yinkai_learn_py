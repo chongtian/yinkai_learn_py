{
 "cells": [
  {
   "cell_type": "markdown",
   "metadata": {
    "collapsed": false
   },
   "source": [
    "# This is a notebook for Yinkai's Python learning"
   ]
  },
  {
   "cell_type": "markdown",
   "metadata": {
    "collapsed": false
   },
   "source": [
    "## Assignment 1: Sort a numeric array\\nIn this assignment, I will give you an array of random numbers. You will sort this array from the smallest to largest. For example, if I give you an array of [5, 4, 1, 2, 3], you will return an array of [1, 2, 3, 4, 5]."
   ]
  },
  {
   "cell_type": "code",
   "execution_count": 1,
   "metadata": {
    "collapsed": false
   },
   "outputs": [
    {
     "name": "stdout",
     "output_type": "stream",
     "text": [
      "[554, 715, 365, 34, 521, 868, 187, 568, 929, 40]\n"
     ]
    }
   ],
   "source": [
    "import random\n",
    "n = 10\n",
    "arr = []\n",
    "_arr = []\n",
    "for i in range(n):\n",
    "    a = random.randint(0,1000)\n",
    "    arr.append(a)\n",
    "    _arr.append(a)\n",
    "print(arr)"
   ]
  },
  {
   "cell_type": "code",
   "execution_count": 9,
   "metadata": {
    "collapsed": false
   },
   "outputs": [
    {
     "name": "stdout",
     "output_type": "stream",
     "text": [
      "[5, 106, 202, 268, 337, 366, 487, 621, 712, 922]\n"
     ]
    }
   ],
   "source": [
    "# insert your codes below\n",
    "for i in range(n-1):\n",
    "    for j in range(1,n):\n",
    "        if arr[i]<arr[j]\n",
    "# above are your codes\n",
    "\n",
    "\n"
   ]
  },
  {
   "cell_type": "code",
   "execution_count": 2,
   "metadata": {
    "collapsed": false
   },
   "outputs": [
    {
     "name": "stdout",
     "output_type": "stream",
     "text": [
      "The correct result is\n",
      "[34, 40, 187, 365, 521, 554, 568, 715, 868, 929]\n",
      "You did it wrong.\n"
     ]
    }
   ],
   "source": [
    "# Run me to check your result\n",
    "\n",
    "_arr = sorted(_arr)\n",
    "print('The correct result is')\n",
    "print(_arr)\n",
    "right = True\n",
    "for i in range(n):\n",
    "    if(arr[i] != _arr[i]):\n",
    "        print('You did it wrong.')\n",
    "        right = False\n",
    "        break\n",
    "if right:\n",
    "    print('You did it right.')\n"
   ]
  },
  {
   "cell_type": "markdown",
   "metadata": {
    "collapsed": false
   },
   "source": [
    "## Assignment 2: Prime Decomposition\n",
    "Given a integer, print out all of its the prime factors."
   ]
  },
  {
   "cell_type": "code",
   "execution_count": 0,
   "metadata": {
    "collapsed": false
   },
   "outputs": [
   ],
   "source": [
    "import random\n",
    "n = random.randint(10000000,1000000000)"
   ]
  },
  {
   "cell_type": "code",
   "execution_count": 0,
   "metadata": {
    "collapsed": false
   },
   "outputs": [
   ],
   "source": [
    "# Write your codes here"
   ]
  }
 ],
 "metadata": {
  "kernelspec": {
   "display_name": "Python 3 (system-wide)",
   "language": "python",
   "metadata": {
    "cocalc": {
     "description": "Python 3 programming language",
     "priority": 100,
     "url": "https://www.python.org/"
    }
   },
   "name": "python3"
  },
  "language_info": {
   "codemirror_mode": {
    "name": "ipython",
    "version": 3
   },
   "file_extension": ".py",
   "mimetype": "text/x-python",
   "name": "python",
   "nbconvert_exporter": "python",
   "pygments_lexer": "ipython3",
   "version": "3.6.9"
  }
 },
 "nbformat": 4,
 "nbformat_minor": 4
}